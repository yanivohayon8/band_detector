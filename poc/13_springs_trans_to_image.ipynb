{
 "cells": [
  {
   "cell_type": "code",
   "execution_count": 1,
   "metadata": {},
   "outputs": [],
   "source": [
    "import numpy as np\n",
    "from PIL import  Image, ImageDraw, ImagePath \n",
    "import pandas as pd\n",
    "import matplotlib.pyplot as plt\n",
    "from IPython.display import Image as IPython_display_Image\n",
    "from IPython.display import display as IPython_display\n",
    "import math"
   ]
  },
  {
   "cell_type": "code",
   "execution_count": 2,
   "metadata": {},
   "outputs": [
    {
     "data": {
      "text/html": [
       "<div>\n",
       "<style scoped>\n",
       "    .dataframe tbody tr th:only-of-type {\n",
       "        vertical-align: middle;\n",
       "    }\n",
       "\n",
       "    .dataframe tbody tr th {\n",
       "        vertical-align: top;\n",
       "    }\n",
       "\n",
       "    .dataframe thead th {\n",
       "        text-align: right;\n",
       "    }\n",
       "</style>\n",
       "<table border=\"1\" class=\"dataframe\">\n",
       "  <thead>\n",
       "    <tr style=\"text-align: right;\">\n",
       "      <th></th>\n",
       "      <th>piece</th>\n",
       "      <th>t_x</th>\n",
       "      <th>t_y</th>\n",
       "      <th>r_sin</th>\n",
       "      <th>r_cos</th>\n",
       "    </tr>\n",
       "  </thead>\n",
       "  <tbody>\n",
       "    <tr>\n",
       "      <th>0</th>\n",
       "      <td>0</td>\n",
       "      <td>0.82156</td>\n",
       "      <td>-0.269809</td>\n",
       "      <td>-0.907949</td>\n",
       "      <td>0.419080</td>\n",
       "    </tr>\n",
       "    <tr>\n",
       "      <th>1</th>\n",
       "      <td>1</td>\n",
       "      <td>-1.52998</td>\n",
       "      <td>0.894071</td>\n",
       "      <td>0.873700</td>\n",
       "      <td>0.486464</td>\n",
       "    </tr>\n",
       "  </tbody>\n",
       "</table>\n",
       "</div>"
      ],
      "text/plain": [
       "   piece      t_x       t_y     r_sin     r_cos\n",
       "0      0  0.82156 -0.269809 -0.907949  0.419080\n",
       "1      1 -1.52998  0.894071  0.873700  0.486464"
      ]
     },
     "execution_count": 2,
     "metadata": {},
     "output_type": "execute_result"
    }
   ],
   "source": [
    "df_pieces = pd.read_csv(f\"..\\\\data\\\\group_45\\\\final_transforms.csv\")\n",
    "df_pieces.head()"
   ]
  },
  {
   "cell_type": "code",
   "execution_count": 3,
   "metadata": {},
   "outputs": [
    {
     "data": {
      "text/plain": [
       "[[0.0, 0.82156, -0.269809, -0.907949, 0.41908],\n",
       " [1.0, -1.52998, 0.894071, 0.8737, 0.486464]]"
      ]
     },
     "execution_count": 3,
     "metadata": {},
     "output_type": "execute_result"
    }
   ],
   "source": [
    "tranformations = df_pieces.values.tolist()\n",
    "tranformations[:5]"
   ]
  },
  {
   "cell_type": "code",
   "execution_count": 4,
   "metadata": {},
   "outputs": [],
   "source": [
    "def transparent_image(piece_image, translation_vector, sin_theta, cos_theta, background_image):\n",
    "    # Get the size of the original image\n",
    "    original_width, original_height = piece_image.size\n",
    "\n",
    "    # Get the size of the background image\n",
    "    bg_width, bg_height = background_image.size\n",
    "\n",
    "    # Rotate the original image\n",
    "    #rotated_piece_image = piece_image.rotate(-np.degrees(np.arccos(cos_theta)), resample=Image.BILINEAR, expand=True)\n",
    "    rotated_piece_image = piece_image.rotate(-np.degrees(np.arccos(cos_theta)))#, resample=Image.BILINEAR, expand=True)\n",
    "\n",
    "    # Calculate the position to paste the rotated image in the new image\n",
    "    paste_position = ((bg_width - original_width) // 2 + int(translation_vector[0]),\n",
    "                      (bg_height - original_height) // 2 + int(translation_vector[1]))\n",
    "\n",
    "    # Paste the rotated image onto the background image\n",
    "    #background_image.paste(rotated_piece_image, paste_position, rotated_piece_image)\n",
    "    background_image.paste(rotated_piece_image, paste_position)\n",
    "    # Return the resulting background image with the updated piece image\n",
    "    return background_image"
   ]
  },
  {
   "cell_type": "code",
   "execution_count": 13,
   "metadata": {},
   "outputs": [],
   "source": [
    "background = Image.new('RGBA', (4885, 4300), (0,0,0,0))\n",
    "angle = 0 #np.pi/2 # 0\n",
    "num_fragments = 2\n",
    "images_paths = [f\"..\\\\data\\\\group_45\\\\RPf_00368_intact_mesh.png\",f\"..\\\\data\\\\group_45\\\\RPf_00370_intact_mesh.png\"]\n",
    "\n",
    "for image_path,trans in zip(images_paths[:num_fragments],tranformations[:num_fragments]):\n",
    "    piece_id = int(trans[0])\n",
    "    t_x = trans[1]*500\n",
    "    t_y = trans[2]*500\n",
    "    translation_vector = [t_x,t_y] #(int(trans[1])*1000,int(trans[2])*1000)\n",
    "\n",
    "    sin_theta = trans[3] ##np.sin(angle) #trans[3]\n",
    "    cos_theta = trans[4] ##np.cos(angle) #trans[4]\n",
    "\n",
    "    #piece_image = Image.open(f\"..\\\\data\\\\ofir\\\\Pseudo-Sappho_MAN_Napoli_Inv9084\\\\Puzzle1\\\\0\\\\{piece_id}_.png\")\n",
    "    piece_image = Image.open(image_path)\n",
    "    background = transparent_image(piece_image,translation_vector,sin_theta,cos_theta,background)\n",
    "\n",
    "\n",
    "background.show()"
   ]
  },
  {
   "cell_type": "code",
   "execution_count": 16,
   "metadata": {},
   "outputs": [],
   "source": [
    "#from PIL import Image\n",
    "#\n",
    "\n",
    "def paste_images(image1, image2, x_offset, y_offset, rotation1=0, rotation2=0):\n",
    "    # Open the images\n",
    "    img1 = Image.open(image1)\n",
    "    img2 = Image.open(image2)\n",
    "\n",
    "    # Rotate the images\n",
    "    img1 = img1.rotate(rotation1, expand=True)\n",
    "    img2 = img2.rotate(rotation2, expand=True)\n",
    "\n",
    "    # Create a transparent background image\n",
    "    bg = Image.new('RGBA', (max(img1.width, img2.width), max(img1.height, img2.height)), (0, 0, 0, 0))\n",
    "\n",
    "    # Paste the first image onto the transparent background\n",
    "    bg.paste(img1, (0, 0))\n",
    "\n",
    "    # Calculate the x and y offsets after rotation\n",
    "    rotated_x_offset = x_offset * math.cos(math.radians(rotation2)) - y_offset * math.sin(math.radians(rotation2))\n",
    "    rotated_y_offset = x_offset * math.sin(math.radians(rotation2)) + y_offset * math.cos(math.radians(rotation2))\n",
    "\n",
    "    # Paste the second image onto the transparent background with rotated x and y offsets\n",
    "    bg.paste(img2, (int(rotated_x_offset), int(rotated_y_offset)), mask=img2)\n",
    "\n",
    "    # Save the final image\n",
    "    bg.show()\n",
    "\n",
    "# Example usage\n",
    "images_paths = [f\"..\\\\data\\\\group_45\\\\RPf_00368_intact_mesh.png\",f\"..\\\\data\\\\group_45\\\\RPf_00370_intact_mesh.png\"]\n",
    "paste_images(images_paths[0], images_paths[1], 50, 100, rotation1=30, rotation2=-15)\n"
   ]
  },
  {
   "cell_type": "code",
   "execution_count": 39,
   "metadata": {},
   "outputs": [],
   "source": [
    "#from PIL import Image\n",
    "#import math\n",
    "\n",
    "def paste_images(base_image, overlay_image, offsets, rotations):\n",
    "    \"\"\"\n",
    "    Paste two overlay images onto a base image with given offsets and rotations.\n",
    "\n",
    "    Args:\n",
    "    - base_image (PIL.Image.Image): The base image with transparent background.\n",
    "    - overlay_image (list of str): List of file paths of the overlay images with transparent backgrounds.\n",
    "    - offsets (list of tuples): List of (x, y) offsets for each overlay image.\n",
    "    - rotations (list of float): List of rotation angles in degrees for each overlay image.\n",
    "\n",
    "    Returns:\n",
    "    - Image: The resulting image with overlay images pasted onto the base image.\n",
    "    \"\"\"\n",
    "    for i in range(len(overlay_image)):\n",
    "        # Open the overlay image\n",
    "        img = Image.open(overlay_image[i])\n",
    "\n",
    "        # Rotate the overlay image\n",
    "        img = img.rotate(rotations[i], expand=True)\n",
    "\n",
    "        # Calculate the x and y offsets after rotation\n",
    "        rotated_x_offset = offsets[i][0] * math.cos(math.radians(rotations[i])) - offsets[i][1] * math.sin(math.radians(rotations[i]))\n",
    "        rotated_y_offset = offsets[i][0] * math.sin(math.radians(rotations[i])) + offsets[i][1] * math.cos(math.radians(rotations[i]))\n",
    "\n",
    "        # Paste the overlay image onto the base image with rotated x and y offsets\n",
    "        base_image.paste(img, (int(rotated_x_offset), int(rotated_y_offset)), mask=img)\n",
    "\n",
    "    return base_image\n",
    "\n",
    "\n",
    "# Example usage\n",
    "base_image = Image.new('RGBA', (4885, 4300), (0, 0, 0, 0))\n",
    "overlay_images = [f\"..\\\\data\\\\group_45\\\\RPf_00368_intact_mesh.png\",f\"..\\\\data\\\\group_45\\\\RPf_00370_intact_mesh.png\"]\n",
    "\n",
    "offsets = []\n",
    "rotations = []\n",
    "sins = []\n",
    "coss = []\n",
    "for trans in tranformations:\n",
    "    #piece_id = int(trans[0])\n",
    "    t_x = base_image.witrans[1]#*200\n",
    "    t_y = trans[2]#*200\n",
    "    offsets.append((t_x,t_y))\n",
    "    #rotations.append(np.degrees(np.arccos(trans[3])))\n",
    "    rotations.append(math.acos(-trans[3]))\n",
    "    #coss.append(trans[3])\n",
    "    #sins.append(trans[4])\n",
    "\n",
    "#offsets = [(tranformations[0][], 100), (-30, 80)]\n",
    "# for rot in tra\n",
    "# rotations = [30, -15]\n",
    "\n",
    "result = paste_images(base_image, overlay_images, offsets, rotations)\n",
    "result.show('result.png')\n"
   ]
  },
  {
   "cell_type": "code",
   "execution_count": null,
   "metadata": {},
   "outputs": [],
   "source": []
  }
 ],
 "metadata": {
  "kernelspec": {
   "display_name": ".venv",
   "language": "python",
   "name": "python3"
  },
  "language_info": {
   "codemirror_mode": {
    "name": "ipython",
    "version": 3
   },
   "file_extension": ".py",
   "mimetype": "text/x-python",
   "name": "python",
   "nbconvert_exporter": "python",
   "pygments_lexer": "ipython3",
   "version": "3.9.1"
  },
  "orig_nbformat": 4
 },
 "nbformat": 4,
 "nbformat_minor": 2
}
